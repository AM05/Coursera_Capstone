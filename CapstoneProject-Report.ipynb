{
 "cells": [
  {
   "cell_type": "markdown",
   "metadata": {},
   "source": [
    "## Capstone Project - Neighborhood Analysis\n",
    "\n",
    "# Introduction\n",
    "A startup or a businessman who wants to open a shop has a series of things to take care to be successful with his business. He must be an experienced person in doing business in his respective field with respect to the day to day activities that he needs to carry out. But in order to chose the right location for his business to flourish and analyze the potential growth a data scientist can help him with the data and analyze it to achieve practical outcomes.\n",
    "\n",
    "# Business Problem\n",
    "In this capstone project, the analysis is done to help a person who wants to open a spa in the right location so that the footfall is maximum. The spa business is affected by a lot of factors such as the quality of service, the kind of chemicals used, the brand name of the business etc. These are the factors that an individual businessman needs to provide. Sometimes inspite of providing the best of service the footfall in a shop is less due to the location and the neighborhood shops. In order to help the business choose the right location the current neighborhoods need to be analyzed.\n",
    "\n",
    "The dataset used for the project is downloaded from https://geo.nyu.edu/catalog/nyu_2451_34572\n",
    "\n",
    "# Overview of the code\n",
    "In New York city a person wants to open a spa. From the data downloaded we know there are 5 boroughs and 306 neighborhoods. He needs to make the right choice of location by analyzing the areas. As he stays in Brooklyn he is interested in opening up a spa in Brooklyn. Let us explore the code to understand how to explore the Brooklyn borough to identify the potential high return location for the spa.\n",
    "\n",
    "# Line by line code analysis\n",
    "1. Once the data is downloaded from the link it is converted into a pandas dataframe. \n",
    "2. From the dataframe we know there are 5 boroughs and 306 neighborhoods. The boroughs are 'Bronx', 'Manhattan', 'Brooklyn', 'Queens' and 'Staten Island'. \n",
    "3. Now filter out the data in the dataframe and keep only Brooklyn\n",
    "4. Get the geographical co-ordinates of Brooklyn\n",
    "5. Connect to the Four API with your credentials to get detailed data on a locality\n",
    "6. Fetch all the neighborhoods in Brooklyn. For each neighborhood get the venues with the location and category\n",
    "7. For each neighborhood convert the categorical data to integer data.\n",
    "8. Display the frequency of a venue in a particular neighborhood.\n",
    "9. Based on the frequency rank the venue in a particular neighborhood.\n",
    "10.Visualize each neighborhood on the map which are clustered together based on the ranking of the venues.\n",
    "11.We observer that cluster 0 has the most frequent Bars and Restaurants which is the comprises of neighborhoods Greenpoint, Windsor Terrace, Prospect Heights, Williamsburg, Bushwick, Bedford Stuyvesant, Brooklyn Heights, Cobble Hill, Carroll Gardens, Red Hook, Gowanus, Fort Greene, Park Slope, Downtown, Boerum Hill, East Williamsburg, North Side, South Side, Fulton Ferry, Vinegar Hill and Dumbo\n",
    "12.We observer that cluster 1 has the most frequent Pizza place and Banks which is the neighborhoods of Manhattan Terrace, Crown Heights, Borough Park and Midwood\n",
    "13.We observer that cluster 3 has the most frequent Harbor which is the Bergen Beach neighborhood\n",
    "14.We observe that cluster 4 has the most frequent spas which is in the Sea Gate neighborhood.\n",
    "15.We observer that cluster 5 has the most frequent bus lines which is the Paerdegat Basin neighborhood\n",
    "16.We observer that cluster 6 has the most frequent Burger Joints which is the Dyker Heights neighborhood\n",
    "17.We observer that cluster 7 has the most frequent Asian Restaurants which is the Canarsie neighborhood\n",
    "18.We observer that cluster 8 has the most frequent Pools and Lakes which is the Mill Island neighborhood\n",
    "19.We observer that cluster 9 has the most frequent Print shops and Fast food Shops which is the neighborhoods of East Flatbush, Flatlands, Wingate and Remsen Village\n",
    "\n",
    "# Result\n",
    "From the above data we can analyze the most suitable location for the new Spa to be opened. As Spa is a relaxing place people would like to have more of Restaurants, Grocery and other utility shops close by. We see in Cluster 0 there are a variety of restaurants, book store, furniture shops, cosmetic shops and many more. It is an ideal cluster. Now within the cluster there are very few Spas are seen. The neighbourhoods Greenpoint, Carroll Gardens, Fort Greene, Park Slope, Downtown and Boerum Hill have a Spa. So it is ideal to open a Spa in any of the remaining neighbourhoods such as Windsor Terrace, Prospect Heights, Williamsburg, Bushwick, Bedford Stuyvesant, Brooklyn Heights, Cobble Hill, , Red Hook, Gowanus, East Williamsburg, North Side, South Side, Fulton Ferry, Vinegar Hill and Dumbo. \n",
    "\n",
    "The other clusters are not very ideal to open a Spa as seen there are no Spas seen in general there. Also the other shops in those clusters are not supportive to attract customers to the Spa.\n",
    "\n",
    "# Conclusion\n",
    "By applying k-clustering means we can find the most ideal place to open a Spa."
   ]
  }
 ],
 "metadata": {
  "kernelspec": {
   "display_name": "Python 3",
   "language": "python",
   "name": "python3"
  },
  "language_info": {
   "codemirror_mode": {
    "name": "ipython",
    "version": 3
   },
   "file_extension": ".py",
   "mimetype": "text/x-python",
   "name": "python",
   "nbconvert_exporter": "python",
   "pygments_lexer": "ipython3",
   "version": "3.6.6"
  }
 },
 "nbformat": 4,
 "nbformat_minor": 2
}
