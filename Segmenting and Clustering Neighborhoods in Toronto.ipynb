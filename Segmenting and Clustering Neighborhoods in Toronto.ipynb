{
 "cells": [
  {
   "cell_type": "code",
   "execution_count": 158,
   "metadata": {},
   "outputs": [],
   "source": [
    "import requests\n",
    "import pandas as pd\n",
    "import numpy as np\n",
    "import lxml.html as lh"
   ]
  },
  {
   "cell_type": "markdown",
   "metadata": {},
   "source": [
    "The url to the wikipage from where the data has to be picked is saved in the variable website_url\n",
    "The contents of the wikipage is fetched and based on the tag <tr> on the html page and the column count which is 3 the html is parsed to create a dataframe"
   ]
  },
  {
   "cell_type": "code",
   "execution_count": 159,
   "metadata": {},
   "outputs": [],
   "source": [
    "website_url = \"https://en.wikipedia.org/wiki/List_of_postal_codes_of_Canada:_M\"\n",
    "\n",
    "page = requests.get(website_url)\n",
    "doc = lh.fromstring(page.content)\n",
    "tr_elements = doc.xpath('//tr')    "
   ]
  },
  {
   "cell_type": "code",
   "execution_count": 160,
   "metadata": {},
   "outputs": [],
   "source": [
    "tr_elements = doc.xpath('//tr')\n",
    "\n",
    "col=[]\n",
    "i=0\n",
    "\n",
    "for t in tr_elements[0]:\n",
    "    i+=1\n",
    "    name=t.text_content()\n",
    "    col.append((name,[]))"
   ]
  },
  {
   "cell_type": "code",
   "execution_count": 161,
   "metadata": {},
   "outputs": [],
   "source": [
    "for j in range(1,len(tr_elements)):\n",
    "    T=tr_elements[j]\n",
    "    \n",
    "    if len(T)!=3:\n",
    "        break\n",
    "    \n",
    "    i=0\n",
    "    \n",
    "    for t in T.iterchildren():\n",
    "        data=t.text_content() \n",
    "        if i>0:\n",
    "            try:\n",
    "                data=int(data)\n",
    "            except:\n",
    "                pass\n",
    "        col[i][1].append(data)\n",
    "        i+=1"
   ]
  },
  {
   "cell_type": "code",
   "execution_count": 167,
   "metadata": {},
   "outputs": [
    {
     "data": {
      "text/plain": [
       "(212, 3)"
      ]
     },
     "execution_count": 167,
     "metadata": {},
     "output_type": "execute_result"
    }
   ],
   "source": [
    "Dict={title:column for (title,column) in col}\n",
    "df=pd.DataFrame(Dict)\n",
    "\n",
    "#The column headers are renamed\n",
    "df.rename(columns={'Postcode':'PostalCode','Neighbourhood\\n':'Neighborhood'}, inplace=True)\n",
    "df['Neighborhood'] = df['Neighborhood'].map(lambda x: x.rstrip('\\n'))\n",
    "\n",
    "#rows having Borough column value as Not assigned is dropped\n",
    "indexNames = df[ df['Borough'] == 'Not assigned' ].index\n",
    "df.drop(indexNames , inplace=True)\n",
    "\n",
    "#rows having Neighbourhood column value as Not assigned is replaced by Borough column value\n",
    "df['Neighborhood'] = np.where(df.Neighborhood!='Not assigned', df.Neighborhood, df.Borough)\n",
    "\n",
    "df.shape"
   ]
  },
  {
   "cell_type": "code",
   "execution_count": 168,
   "metadata": {},
   "outputs": [
    {
     "name": "stdout",
     "output_type": "stream",
     "text": [
      "                                                                  Neighborhood\n",
      "PostalCode Borough                                                            \n",
      "M3A        North York                                                Parkwoods\n",
      "M4A        North York                                         Victoria Village\n",
      "M5A        Downtown Toronto                           Harbourfront,Regent Park\n",
      "M6A        North York                          Lawrence Heights,Lawrence Manor\n",
      "M7A        Queen's Park                                           Queen's Park\n",
      "M9A        Etobicoke                                          Islington Avenue\n",
      "M1B        Scarborough                                           Rouge,Malvern\n",
      "M3B        North York                                          Don Mills North\n",
      "M4B        East York                            Woodbine Gardens,Parkview Hill\n",
      "M5B        Downtown Toronto                            Ryerson,Garden District\n",
      "M6B        North York                                                Glencairn\n",
      "M9B        Etobicoke         Cloverdale,Islington,Martin Grove,Princess Gar...\n",
      "M1C        Scarborough                    Highland Creek,Rouge Hill,Port Union\n",
      "M3C        North York                          Flemingdon Park,Don Mills South\n",
      "M4C        East York                                          Woodbine Heights\n",
      "M5C        Downtown Toronto                                     St. James Town\n",
      "M6C        York                                             Humewood-Cedarvale\n",
      "M9C        Etobicoke         Bloordale Gardens,Eringate,Markland Wood,Old B...\n",
      "M1E        Scarborough                         Guildwood,Morningside,West Hill\n",
      "M4E        East Toronto                                            The Beaches\n",
      "M5E        Downtown Toronto                                        Berczy Park\n",
      "M6E        York                                            Caledonia-Fairbanks\n",
      "M1G        Scarborough                                                  Woburn\n",
      "M4G        East York                                                   Leaside\n",
      "M5G        Downtown Toronto                                 Central Bay Street\n",
      "M6G        Downtown Toronto                                           Christie\n",
      "M1H        Scarborough                                               Cedarbrae\n",
      "M2H        North York                                        Hillcrest Village\n",
      "M3H        North York            Bathurst Manor,Downsview North,Wilson Heights\n",
      "M4H        East York                                          Thorncliffe Park\n",
      "...                                                                        ...\n",
      "M4R        Central Toronto                                  North Toronto West\n",
      "M5R        Central Toronto                   The Annex,North Midtown,Yorkville\n",
      "M6R        West Toronto                                  Parkdale,Roncesvalles\n",
      "M7R        Mississauga                   Canada Post Gateway Processing Centre\n",
      "M9R        Etobicoke         Kingsview Village,Martin Grove Gardens,Richvie...\n",
      "M1S        Scarborough                                               Agincourt\n",
      "M4S        Central Toronto                                          Davisville\n",
      "M5S        Downtown Toronto                      Harbord,University of Toronto\n",
      "M6S        West Toronto                                      Runnymede,Swansea\n",
      "M1T        Scarborough                   Clarks Corners,Sullivan,Tam O'Shanter\n",
      "M4T        Central Toronto                          Moore Park,Summerhill East\n",
      "M5T        Downtown Toronto            Chinatown,Grange Park,Kensington Market\n",
      "M1V        Scarborough       Agincourt North,L'Amoreaux East,Milliken,Steel...\n",
      "M4V        Central Toronto   Deer Park,Forest Hill SE,Rathnelly,South Hill,...\n",
      "M5V        Downtown Toronto  CN Tower,Bathurst Quay,Island airport,Harbourf...\n",
      "M8V        Etobicoke                Humber Bay Shores,Mimico South,New Toronto\n",
      "M9V        Etobicoke         Albion Gardens,Beaumond Heights,Humbergate,Jam...\n",
      "M1W        Scarborough                            L'Amoreaux West,Steeles West\n",
      "M4W        Downtown Toronto                                           Rosedale\n",
      "M5W        Downtown Toronto                    Stn A PO Boxes 25 The Esplanade\n",
      "M8W        Etobicoke                                     Alderwood,Long Branch\n",
      "M9W        Etobicoke                                                 Northwest\n",
      "M1X        Scarborough                                             Upper Rouge\n",
      "M4X        Downtown Toronto                         Cabbagetown,St. James Town\n",
      "M5X        Downtown Toronto              First Canadian Place,Underground city\n",
      "M8X        Etobicoke               The Kingsway,Montgomery Road,Old Mill North\n",
      "M4Y        Downtown Toronto                               Church and Wellesley\n",
      "M7Y        East Toronto      Business Reply Mail Processing Centre 969 Eastern\n",
      "M8Y        Etobicoke         Humber Bay,King's Mill Park,Kingsway Park Sout...\n",
      "M8Z        Etobicoke         Kingsway Park South West,Mimico NW,The Queensw...\n",
      "\n",
      "[103 rows x 1 columns]\n"
     ]
    }
   ],
   "source": [
    "#where multiple rows exist for a postal code the rows are combined and the values in the Neighborhood column in concatenated using a ,\n",
    "df.set_index(['PostalCode', 'Borough'], inplace=True)\n",
    "result = df.groupby(level=['PostalCode','Borough'], sort=False).agg( ','.join)\n",
    "print(result)"
   ]
  },
  {
   "cell_type": "code",
   "execution_count": 171,
   "metadata": {},
   "outputs": [
    {
     "data": {
      "text/plain": [
       "(103, 1)"
      ]
     },
     "execution_count": 171,
     "metadata": {},
     "output_type": "execute_result"
    }
   ],
   "source": [
    "#there are 103 unique postal code values in the dataframe\n",
    "result.shape"
   ]
  },
  {
   "cell_type": "code",
   "execution_count": null,
   "metadata": {},
   "outputs": [],
   "source": []
  }
 ],
 "metadata": {
  "kernelspec": {
   "display_name": "Python 3",
   "language": "python",
   "name": "python3"
  },
  "language_info": {
   "codemirror_mode": {
    "name": "ipython",
    "version": 3
   },
   "file_extension": ".py",
   "mimetype": "text/x-python",
   "name": "python",
   "nbconvert_exporter": "python",
   "pygments_lexer": "ipython3",
   "version": "3.6.6"
  }
 },
 "nbformat": 4,
 "nbformat_minor": 2
}
